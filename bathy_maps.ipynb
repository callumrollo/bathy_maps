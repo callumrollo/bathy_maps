{
 "cells": [
  {
   "cell_type": "code",
   "execution_count": 1,
   "id": "a96d0c9b-145e-490d-8c80-a81dd9cb935d",
   "metadata": {},
   "outputs": [],
   "source": [
    "import cartopy\n",
    "import cartopy.crs as ccrs\n",
    "import numpy as np\n",
    "import matplotlib.pyplot as plt"
   ]
  },
  {
   "cell_type": "code",
   "execution_count": 2,
   "id": "a01806b4-68ce-4c29-9ec7-3d116315bf69",
   "metadata": {},
   "outputs": [],
   "source": [
    "import bathyutils"
   ]
  },
  {
   "cell_type": "markdown",
   "id": "7a1c609f-fd13-450b-ba48-0209eb730529",
   "metadata": {},
   "source": [
    "First we set the extent of our map in degrees"
   ]
  },
  {
   "cell_type": "code",
   "execution_count": 3,
   "id": "5493c257-eef1-4448-a51f-22ea402d4cda",
   "metadata": {},
   "outputs": [],
   "source": [
    "S_lim = 57\n",
    "N_lim = 59\n",
    "W_lim = 17\n",
    "E_lim = 23"
   ]
  },
  {
   "cell_type": "markdown",
   "id": "2a509da1-701f-4592-9997-10a1bab02f46",
   "metadata": {},
   "source": [
    "Next we subset bathymetric data from either [emodnet](https://portal.emodnet-bathymetry.eu/) (hi-res, Europe only) or [GEBCO ](https://download.gebco.net/)(global). To subset the data, we can use the functions `bathyutils.gebco_subset` or `bathyutils.emod_subset`. Both functions require the path to the bathymetry datasets, and the extent of the area to be mapped"
   ]
  },
  {
   "cell_type": "code",
   "execution_count": 4,
   "id": "19ae4dfd-d44e-41c9-8841-e701ae2d333c",
   "metadata": {},
   "outputs": [
    {
     "data": {
      "text/plain": [
       "\u001b[0;31mSignature:\u001b[0m \u001b[0mbathyutils\u001b[0m\u001b[0;34m.\u001b[0m\u001b[0memod_subset\u001b[0m\u001b[0;34m(\u001b[0m\u001b[0mextent\u001b[0m\u001b[0;34m,\u001b[0m \u001b[0mpath_to_emodnet\u001b[0m\u001b[0;34m,\u001b[0m \u001b[0mbuffer\u001b[0m\u001b[0;34m=\u001b[0m\u001b[0;36m0.2\u001b[0m\u001b[0;34m)\u001b[0m\u001b[0;34m\u001b[0m\u001b[0;34m\u001b[0m\u001b[0m\n",
       "\u001b[0;31mDocstring:\u001b[0m\n",
       "Selects the EMODnet bathymetry tiles that cover the user defined area and\n",
       "combines them for a seamless bathymetry. Returns lon, lat and bathy.\n",
       ":param extent: list with four items which are extent of desired geotiff [South, North, West, East]\n",
       "e.g. [49. 50.5, -5, 2] (if using gebco or emodnet)\n",
       ":param path_to_emodnet: string or path to the folder containing EMODnet .nc files, specified by user\n",
       ":param buffer: size in degrees of extra area around specified coordinates to return. Detaults to 0.2.\n",
       ":return: xarray object of subset bathymetry\n",
       "\u001b[0;31mFile:\u001b[0m      ~/Documents/data-flow/bathy_maps/bathyutils.py\n",
       "\u001b[0;31mType:\u001b[0m      function\n"
      ]
     },
     "metadata": {},
     "output_type": "display_data"
    }
   ],
   "source": [
    "bathyutils.emod_subset?"
   ]
  },
  {
   "cell_type": "code",
   "execution_count": 5,
   "id": "017a8b87-821d-4b31-a4b5-810083254d39",
   "metadata": {},
   "outputs": [
    {
     "name": "stdout",
     "output_type": "stream",
     "text": [
      "Found tiles [PosixPath('/home/callum/Documents/datasets/bathy/emodnet/C6_2020.nc'), PosixPath('/home/callum/Documents/datasets/bathy/emodnet/D7_2020.nc'), PosixPath('/home/callum/Documents/datasets/bathy/emodnet/C7_2020.nc'), PosixPath('/home/callum/Documents/datasets/bathy/emodnet/C5_2020.nc'), PosixPath('/home/callum/Documents/datasets/bathy/emodnet/D5_2020.nc'), PosixPath('/home/callum/Documents/datasets/bathy/emodnet/D6_2020.nc')]\n",
      "Found 1 tiles with relevant data: [PosixPath('/home/callum/Documents/datasets/bathy/emodnet/D6_2020.nc')]\n"
     ]
    }
   ],
   "source": [
    "emodnet_path = \"/home/callum/Documents/datasets/bathy/emodnet\"\n",
    "extent = (S_lim, N_lim, W_lim, E_lim)\n",
    "ds_bathy = bathyutils.emod_subset(extent, emodnet_path)"
   ]
  },
  {
   "cell_type": "code",
   "execution_count": null,
   "id": "834db981-66ce-43e7-918c-fe7d606dc8f9",
   "metadata": {},
   "outputs": [],
   "source": [
    "coord = cartopy.crs.AzimuthalEquidistant(central_longitude=np.mean((W_lim, E_lim)),\n",
    "                                  central_latitude=np.mean((S_lim, N_lim)))\n",
    "pc = cartopy.crs.PlateCarree()\n",
    "fig = plt.figure(figsize=(12, 6))\n",
    "ax = fig.add_subplot(111, projection=coord)\n",
    "\n",
    "bathy_c = ax.contourf(ds_bathy.lon, ds_bathy.lat, ds_bathy.elevation, transform=pc, cmap=\"Blues_r\")\n",
    "ax.set_extent((W_lim, E_lim, S_lim, N_lim), crs=pc)\n",
    "\n",
    "feature = cartopy.feature.NaturalEarthFeature(name='land', category='physical',\n",
    "                                       scale='10m', edgecolor='black', facecolor='lightgreen')\n",
    "ax.add_feature(feature)\n",
    "gl = ax.gridlines(draw_labels=True,\n",
    "                  linewidth=2, color='gray', alpha=0.5, linestyle='--')\n",
    "gl.top_labels = None\n",
    "gl.right_labels = None\n",
    "fig.colorbar(bathy_c,ax=ax,orientation='horizontal',label='Bathymetry (m)',shrink=0.7,pad=0.1,aspect=40)\n"
   ]
  }
 ],
 "metadata": {
  "kernelspec": {
   "display_name": "Python 3 (ipykernel)",
   "language": "python",
   "name": "python3"
  },
  "language_info": {
   "codemirror_mode": {
    "name": "ipython",
    "version": 3
   },
   "file_extension": ".py",
   "mimetype": "text/x-python",
   "name": "python",
   "nbconvert_exporter": "python",
   "pygments_lexer": "ipython3",
   "version": "3.10.4"
  }
 },
 "nbformat": 4,
 "nbformat_minor": 5
}
